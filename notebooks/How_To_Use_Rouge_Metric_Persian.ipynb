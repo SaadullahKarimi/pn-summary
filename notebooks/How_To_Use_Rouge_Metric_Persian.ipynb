{
  "nbformat": 4,
  "nbformat_minor": 0,
  "metadata": {
    "colab": {
      "name": "Persian Rouge Metric How To Use.ipynb",
      "provenance": [],
      "collapsed_sections": []
    },
    "kernelspec": {
      "name": "python3",
      "display_name": "Python 3"
    }
  },
  "cells": [
    {
      "cell_type": "code",
      "metadata": {
        "colab": {
          "base_uri": "https://localhost:8080/"
        },
        "id": "cISxDMVAICJf",
        "outputId": "7a790eaa-584f-4215-c3aa-93db30a6c5ec"
      },
      "source": [
        "!git clone https://github.com/hooshvare/pn-summary\n",
        "!cp -a /content/pn-summary/scripts/rouge/ /content/\n",
        "!cp -a /content/pn-summary/scripts/rouge_score/ /content/"
      ],
      "execution_count": 5,
      "outputs": [
        {
          "output_type": "stream",
          "text": [
            "fatal: destination path 'pn-summary' already exists and is not an empty directory.\n"
          ],
          "name": "stdout"
        }
      ]
    },
    {
      "cell_type": "code",
      "metadata": {
        "colab": {
          "base_uri": "https://localhost:8080/"
        },
        "id": "nlR3YOd4IMm6",
        "outputId": "9a291bfc-6024-49d1-c053-e28d807dea24"
      },
      "source": [
        "!pip install -qU datasets\n",
        "!pip install -qU hazm"
      ],
      "execution_count": 10,
      "outputs": [
        {
          "output_type": "stream",
          "text": [
            "\u001b[K     |████████████████████████████████| 317kB 11.0MB/s \n",
            "\u001b[K     |████████████████████████████████| 235kB 17.4MB/s \n",
            "\u001b[K     |████████████████████████████████| 1.4MB 13.4MB/s \n",
            "\u001b[?25h  Building wheel for libwapiti (setup.py) ... \u001b[?25l\u001b[?25hdone\n",
            "  Building wheel for nltk (setup.py) ... \u001b[?25l\u001b[?25hdone\n"
          ],
          "name": "stdout"
        }
      ]
    },
    {
      "cell_type": "code",
      "metadata": {
        "id": "2Y8JBDRDI5lV"
      },
      "source": [
        "from datasets import load_metric\n",
        "from prettytable import PrettyTable"
      ],
      "execution_count": 15,
      "outputs": []
    },
    {
      "cell_type": "code",
      "metadata": {
        "id": "4pJ3_iVJIkBX"
      },
      "source": [
        "hyp = \"فوق ستاره اسبق تیم ملی آرژانتین پس از حمله قلبی در ۶۰ سالگی چشم از جهان فرو بست.\"\n",
        "ref = \"براساس گزارش رسانه‌های ارژانتین دیگو مارادونا اسطوره فوتبال ارژانتین بر اثر ابتلا به سرطان چشم از جهان فرو بست.\""
      ],
      "execution_count": 18,
      "outputs": []
    },
    {
      "cell_type": "code",
      "metadata": {
        "id": "aYy6pqYRI9yj"
      },
      "source": [
        "rouge = load_metric('/content/rouge/')"
      ],
      "execution_count": 19,
      "outputs": []
    },
    {
      "cell_type": "code",
      "metadata": {
        "colab": {
          "base_uri": "https://localhost:8080/"
        },
        "id": "4aalWHlCJDX7",
        "outputId": "4f9c8803-05ec-427c-f5ac-81fa609a341a"
      },
      "source": [
        "scores = rouge.compute(\n",
        "    predictions=[hyp], \n",
        "    references=[ref], \n",
        "    rouge_types=[\"rouge1\", \"rouge2\", \"rougeL\", \"rougeLsum\"], \n",
        "    use_stemmer=False, \n",
        "    lang='fa'\n",
        ")\n",
        "\n",
        "table = PrettyTable(title='Rouge Metric')\n",
        "table.field_names = [\"Score\", \"Type\", \"Precision\", \"Recall\", \"F-Measure\"]\n",
        "for i, score_name in enumerate(scores):\n",
        "    score = dict(scores[score_name]._asdict())\n",
        "    for score_type in score:\n",
        "        values = score[score_type]\n",
        "        table.add_row([f'{score_name}', f'{score_type}', f'{values.precision * 100:0.2f} ', f'{values.recall * 100:0.2f}', f'{values.fmeasure * 100:0.2f}'])\n",
        "\n",
        "    if i < len(scores) - 1:\n",
        "        table.add_row([''] * len(table.field_names))\n",
        "        table.add_row(['***'] * len(table.field_names))\n",
        "        table.add_row([''] * len(table.field_names))\n",
        "\n",
        "rouge_table_valid = table\n",
        "print(table.get_string())"
      ],
      "execution_count": 20,
      "outputs": [
        {
          "output_type": "stream",
          "text": [
            "+---------------------------------------------------+\n",
            "|                    Rouge Metric                   |\n",
            "+-----------+------+-----------+--------+-----------+\n",
            "|   Score   | Type | Precision | Recall | F-Measure |\n",
            "+-----------+------+-----------+--------+-----------+\n",
            "|   rouge1  | low  |   27.78   | 25.00  |   26.32   |\n",
            "|   rouge1  | mid  |   27.78   | 25.00  |   26.32   |\n",
            "|   rouge1  | high |   27.78   | 25.00  |   26.32   |\n",
            "|           |      |           |        |           |\n",
            "|    ***    | ***  |    ***    |  ***   |    ***    |\n",
            "|           |      |           |        |           |\n",
            "|   rouge2  | low  |   23.53   | 21.05  |   22.22   |\n",
            "|   rouge2  | mid  |   23.53   | 21.05  |   22.22   |\n",
            "|   rouge2  | high |   23.53   | 21.05  |   22.22   |\n",
            "|           |      |           |        |           |\n",
            "|    ***    | ***  |    ***    |  ***   |    ***    |\n",
            "|           |      |           |        |           |\n",
            "|   rougeL  | low  |   27.78   | 25.00  |   26.32   |\n",
            "|   rougeL  | mid  |   27.78   | 25.00  |   26.32   |\n",
            "|   rougeL  | high |   27.78   | 25.00  |   26.32   |\n",
            "|           |      |           |        |           |\n",
            "|    ***    | ***  |    ***    |  ***   |    ***    |\n",
            "|           |      |           |        |           |\n",
            "| rougeLsum | low  |   27.78   | 25.00  |   26.32   |\n",
            "| rougeLsum | mid  |   27.78   | 25.00  |   26.32   |\n",
            "| rougeLsum | high |   27.78   | 25.00  |   26.32   |\n",
            "+-----------+------+-----------+--------+-----------+\n"
          ],
          "name": "stdout"
        }
      ]
    },
    {
      "cell_type": "code",
      "metadata": {
        "id": "RcioHJKrJoSz"
      },
      "source": [
        ""
      ],
      "execution_count": null,
      "outputs": []
    }
  ]
}